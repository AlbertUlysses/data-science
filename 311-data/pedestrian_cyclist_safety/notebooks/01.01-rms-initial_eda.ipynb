{
 "cells": [
  {
   "cell_type": "code",
   "execution_count": 9,
   "metadata": {},
   "outputs": [],
   "source": [
    "import pandas as pd\n",
    "import numpy as np\n",
    "import matplotlib.pyplot as plt"
   ]
  },
  {
   "cell_type": "code",
   "execution_count": 4,
   "metadata": {},
   "outputs": [
    {
     "data": {
      "text/html": [
       "<div>\n",
       "<style scoped>\n",
       "    .dataframe tbody tr th:only-of-type {\n",
       "        vertical-align: middle;\n",
       "    }\n",
       "\n",
       "    .dataframe tbody tr th {\n",
       "        vertical-align: top;\n",
       "    }\n",
       "\n",
       "    .dataframe thead th {\n",
       "        text-align: right;\n",
       "    }\n",
       "</style>\n",
       "<table border=\"1\" class=\"dataframe\">\n",
       "  <thead>\n",
       "    <tr style=\"text-align: right;\">\n",
       "      <th></th>\n",
       "      <th>OBJECTID</th>\n",
       "      <th>FID_</th>\n",
       "      <th>Shape__</th>\n",
       "      <th>CaseID</th>\n",
       "      <th>AssetID</th>\n",
       "      <th>PointX</th>\n",
       "      <th>PointY</th>\n",
       "      <th>AccidentYe</th>\n",
       "      <th>CollisionS</th>\n",
       "      <th>PedBikeVeh</th>\n",
       "      <th>...</th>\n",
       "      <th>P8</th>\n",
       "      <th>P9</th>\n",
       "      <th>P10</th>\n",
       "      <th>P11</th>\n",
       "      <th>P12</th>\n",
       "      <th>P13</th>\n",
       "      <th>P14</th>\n",
       "      <th>P15</th>\n",
       "      <th>LAT</th>\n",
       "      <th>LON</th>\n",
       "    </tr>\n",
       "  </thead>\n",
       "  <tbody>\n",
       "    <tr>\n",
       "      <th>0</th>\n",
       "      <td>1</td>\n",
       "      <td>0</td>\n",
       "      <td>Point</td>\n",
       "      <td>3984274</td>\n",
       "      <td>100055</td>\n",
       "      <td>-118.256090</td>\n",
       "      <td>34.051579</td>\n",
       "      <td>2009</td>\n",
       "      <td>1</td>\n",
       "      <td>P</td>\n",
       "      <td>...</td>\n",
       "      <td>0</td>\n",
       "      <td>0</td>\n",
       "      <td>0</td>\n",
       "      <td>0</td>\n",
       "      <td>0</td>\n",
       "      <td>0</td>\n",
       "      <td>0</td>\n",
       "      <td>0</td>\n",
       "      <td>34.051566</td>\n",
       "      <td>-118.256081</td>\n",
       "    </tr>\n",
       "    <tr>\n",
       "      <th>1</th>\n",
       "      <td>2</td>\n",
       "      <td>1</td>\n",
       "      <td>Point</td>\n",
       "      <td>3984281</td>\n",
       "      <td>130209</td>\n",
       "      <td>-118.450240</td>\n",
       "      <td>34.227650</td>\n",
       "      <td>2009</td>\n",
       "      <td>1</td>\n",
       "      <td>V</td>\n",
       "      <td>...</td>\n",
       "      <td>0</td>\n",
       "      <td>0</td>\n",
       "      <td>0</td>\n",
       "      <td>0</td>\n",
       "      <td>0</td>\n",
       "      <td>0</td>\n",
       "      <td>1</td>\n",
       "      <td>0</td>\n",
       "      <td>34.226939</td>\n",
       "      <td>-118.449888</td>\n",
       "    </tr>\n",
       "    <tr>\n",
       "      <th>2</th>\n",
       "      <td>3</td>\n",
       "      <td>2</td>\n",
       "      <td>Point</td>\n",
       "      <td>3984352</td>\n",
       "      <td>114709</td>\n",
       "      <td>-118.304110</td>\n",
       "      <td>34.068981</td>\n",
       "      <td>2009</td>\n",
       "      <td>1</td>\n",
       "      <td>V</td>\n",
       "      <td>...</td>\n",
       "      <td>0</td>\n",
       "      <td>0</td>\n",
       "      <td>0</td>\n",
       "      <td>0</td>\n",
       "      <td>0</td>\n",
       "      <td>0</td>\n",
       "      <td>0</td>\n",
       "      <td>1</td>\n",
       "      <td>34.068993</td>\n",
       "      <td>-118.304107</td>\n",
       "    </tr>\n",
       "    <tr>\n",
       "      <th>3</th>\n",
       "      <td>4</td>\n",
       "      <td>3</td>\n",
       "      <td>Point</td>\n",
       "      <td>3984369</td>\n",
       "      <td>103365</td>\n",
       "      <td>-118.263633</td>\n",
       "      <td>34.003887</td>\n",
       "      <td>2009</td>\n",
       "      <td>1</td>\n",
       "      <td>P</td>\n",
       "      <td>...</td>\n",
       "      <td>0</td>\n",
       "      <td>0</td>\n",
       "      <td>0</td>\n",
       "      <td>0</td>\n",
       "      <td>0</td>\n",
       "      <td>0</td>\n",
       "      <td>0</td>\n",
       "      <td>0</td>\n",
       "      <td>34.003891</td>\n",
       "      <td>-118.263955</td>\n",
       "    </tr>\n",
       "    <tr>\n",
       "      <th>4</th>\n",
       "      <td>5</td>\n",
       "      <td>4</td>\n",
       "      <td>Point</td>\n",
       "      <td>4014945</td>\n",
       "      <td>124320</td>\n",
       "      <td>-118.262350</td>\n",
       "      <td>33.778492</td>\n",
       "      <td>2009</td>\n",
       "      <td>1</td>\n",
       "      <td>P</td>\n",
       "      <td>...</td>\n",
       "      <td>0</td>\n",
       "      <td>0</td>\n",
       "      <td>0</td>\n",
       "      <td>0</td>\n",
       "      <td>0</td>\n",
       "      <td>0</td>\n",
       "      <td>0</td>\n",
       "      <td>0</td>\n",
       "      <td>33.778524</td>\n",
       "      <td>-118.262317</td>\n",
       "    </tr>\n",
       "  </tbody>\n",
       "</table>\n",
       "<p>5 rows × 50 columns</p>\n",
       "</div>"
      ],
      "text/plain": [
       "   OBJECTID  FID_ Shape__   CaseID  AssetID      PointX     PointY  \\\n",
       "0         1     0   Point  3984274   100055 -118.256090  34.051579   \n",
       "1         2     1   Point  3984281   130209 -118.450240  34.227650   \n",
       "2         3     2   Point  3984352   114709 -118.304110  34.068981   \n",
       "3         4     3   Point  3984369   103365 -118.263633  34.003887   \n",
       "4         5     4   Point  4014945   124320 -118.262350  33.778492   \n",
       "\n",
       "   AccidentYe  CollisionS PedBikeVeh  ... P8 P9 P10  P11  P12  P13  P14  P15  \\\n",
       "0        2009           1          P  ...  0  0   0    0    0    0    0    0   \n",
       "1        2009           1          V  ...  0  0   0    0    0    0    1    0   \n",
       "2        2009           1          V  ...  0  0   0    0    0    0    0    1   \n",
       "3        2009           1          P  ...  0  0   0    0    0    0    0    0   \n",
       "4        2009           1          P  ...  0  0   0    0    0    0    0    0   \n",
       "\n",
       "         LAT         LON  \n",
       "0  34.051566 -118.256081  \n",
       "1  34.226939 -118.449888  \n",
       "2  34.068993 -118.304107  \n",
       "3  34.003891 -118.263955  \n",
       "4  33.778524 -118.262317  \n",
       "\n",
       "[5 rows x 50 columns]"
      ]
     },
     "execution_count": 4,
     "metadata": {},
     "output_type": "execute_result"
    }
   ],
   "source": [
    "# Load data\n",
    "# From: http://visionzero.geohub.lacity.org/datasets/ladot::collision-profile-analysis-and-prioritization-scores\n",
    "collision_profiles = pd.read_csv('../data/raw/Collision_Profile_Analysis_and_Prioritization_Scores.csv')\n",
    "collision_profiles.head()"
   ]
  },
  {
   "cell_type": "code",
   "execution_count": 5,
   "metadata": {},
   "outputs": [
    {
     "data": {
      "text/plain": [
       "(2932, 50)"
      ]
     },
     "execution_count": 5,
     "metadata": {},
     "output_type": "execute_result"
    }
   ],
   "source": [
    "collision_profiles.shape"
   ]
  },
  {
   "cell_type": "code",
   "execution_count": 7,
   "metadata": {},
   "outputs": [
    {
     "data": {
      "text/plain": [
       "1726"
      ]
     },
     "execution_count": 7,
     "metadata": {},
     "output_type": "execute_result"
    }
   ],
   "source": [
    "np.sum(collision_profiles['PedBikeVeh'] != 'V')"
   ]
  },
  {
   "cell_type": "markdown",
   "metadata": {},
   "source": [
    "We have records of 1726 bike or vehicle accidents since 2010"
   ]
  },
  {
   "cell_type": "code",
   "execution_count": 11,
   "metadata": {},
   "outputs": [
    {
     "data": {
      "text/plain": [
       "<matplotlib.axes._subplots.AxesSubplot at 0x11a326710>"
      ]
     },
     "execution_count": 11,
     "metadata": {},
     "output_type": "execute_result"
    },
    {
     "data": {
      "image/png": "[encoded data removed]",
      "text/plain": [
       "<Figure size 432x288 with 1 Axes>"
      ]
     },
     "metadata": {
      "needs_background": "light"
     },
     "output_type": "display_data"
    }
   ],
   "source": [
    "collision_profiles.PedBikeVeh.hist()"
   ]
  },
  {
   "cell_type": "code",
   "execution_count": null,
   "metadata": {},
   "outputs": [],
   "source": [
    "# see: https://geopandas.org/gallery/plotting_basemap_background.html"
   ]
  }
 ],
 "metadata": {
  "kernelspec": {
   "display_name": "Python 3",
   "language": "python",
   "name": "python3"
  },
  "language_info": {
   "codemirror_mode": {
    "name": "ipython",
    "version": 3
   },
   "file_extension": ".py",
   "mimetype": "text/x-python",
   "name": "python",
   "nbconvert_exporter": "python",
   "pygments_lexer": "ipython3",
   "version": "3.7.5"
  }
 },
 "nbformat": 4,
 "nbformat_minor": 2
}
